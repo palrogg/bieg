{
 "cells": [
  {
   "cell_type": "code",
   "execution_count": 1,
   "metadata": {},
   "outputs": [],
   "source": [
    "# si le module paho-mqtt n’est pas encore installé\n",
    "# !pip install paho-mqtt"
   ]
  },
  {
   "cell_type": "code",
   "execution_count": 2,
   "metadata": {},
   "outputs": [],
   "source": [
    "import paho.mqtt.client as mqtt\n",
    "import struct\n",
    "from time import sleep"
   ]
  },
  {
   "cell_type": "code",
   "execution_count": 3,
   "metadata": {},
   "outputs": [],
   "source": [
    "# Degres sur le plateau, en gros\n",
    "# +- l'angle qu'on veut\n",
    "# 30 = a droite\n",
    "# 90 = milieu\n",
    "# 150 = gauche\n",
    "\n",
    "def remap( x, oMin, oMax, nMin, nMax ):\n",
    "\n",
    "    #check reversed input range\n",
    "    reverseInput = False\n",
    "    oldMin = min( oMin, oMax )\n",
    "    oldMax = max( oMin, oMax )\n",
    "    if not oldMin == oMin:\n",
    "        reverseInput = True\n",
    "\n",
    "    #check reversed output range\n",
    "    reverseOutput = False\n",
    "    newMin = min( nMin, nMax )\n",
    "    newMax = max( nMin, nMax )\n",
    "    if not newMin == nMin :\n",
    "        reverseOutput = True\n",
    "\n",
    "    portion = (x-oldMin)*(newMax-newMin)/(oldMax-oldMin)\n",
    "    if reverseInput:\n",
    "        portion = (oldMax-x)*(newMax-newMin)/(oldMax-oldMin)\n",
    "\n",
    "    result = portion + newMin\n",
    "    if reverseOutput:\n",
    "        result = newMax - portion\n",
    "\n",
    "    return int(round(result))"
   ]
  },
  {
   "cell_type": "code",
   "execution_count": 4,
   "metadata": {},
   "outputs": [],
   "source": [
    "def sendAngle(degrees):\n",
    "    x = struct.pack('i', degrees)\n",
    "    response = client.publish(\"gdc001\", x, qos=0, retain=True)\n",
    "    print(\"Published:\", response.is_published())"
   ]
  },
  {
   "cell_type": "code",
   "execution_count": 59,
   "metadata": {},
   "outputs": [
    {
     "data": {
      "text/plain": [
       "0"
      ]
     },
     "execution_count": 59,
     "metadata": {},
     "output_type": "execute_result"
    }
   ],
   "source": [
    "client = mqtt.Client(\"asdfsdfa\")\n",
    "client.connect(\"broker.mqtt-dashboard.com\", port=1883)"
   ]
  },
  {
   "cell_type": "code",
   "execution_count": 60,
   "metadata": {},
   "outputs": [
    {
     "name": "stdout",
     "output_type": "stream",
     "text": [
      "Published: True\n"
     ]
    }
   ],
   "source": [
    "# Réglage 6 juin\n",
    "# 7 = 0%\n",
    "# 186 = 100%\n",
    "def getAngle(percentage):\n",
    "    return remap(percentage, 100, 0, 186, 7)\n",
    "sendAngle(getAngle(50))"
   ]
  },
  {
   "cell_type": "code",
   "execution_count": 61,
   "metadata": {},
   "outputs": [
    {
     "name": "stdout",
     "output_type": "stream",
     "text": [
      "0% -> 7°\n",
      "10% -> 25°\n",
      "20% -> 43°\n",
      "30% -> 61°\n",
      "40% -> 79°\n",
      "50% -> 96°\n",
      "60% -> 114°\n",
      "70% -> 132°\n",
      "80% -> 150°\n",
      "90% -> 168°\n",
      "100% -> 186°\n"
     ]
    }
   ],
   "source": [
    "for i in range(0, 101, 10):\n",
    "    print(\"{}% -> {}°\".format(i, getAngle(i)))\n",
    "    sendValue(i)\n",
    "    input()"
   ]
  },
  {
   "cell_type": "code",
   "execution_count": null,
   "metadata": {},
   "outputs": [],
   "source": []
  }
 ],
 "metadata": {
  "kernelspec": {
   "display_name": "Python 3",
   "language": "python",
   "name": "python3"
  },
  "language_info": {
   "codemirror_mode": {
    "name": "ipython",
    "version": 3
   },
   "file_extension": ".py",
   "mimetype": "text/x-python",
   "name": "python",
   "nbconvert_exporter": "python",
   "pygments_lexer": "ipython3",
   "version": "3.7.3"
  }
 },
 "nbformat": 4,
 "nbformat_minor": 2
}
